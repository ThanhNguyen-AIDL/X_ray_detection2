{
 "cells": [
  {
   "cell_type": "markdown",
   "id": "97c3e0b1",
   "metadata": {},
   "source": [
    "# Data Analysis and Visualization with Python\n",
    "\n",
    "This notebook demonstrates basic data analysis and visualization using pandas and matplotlib in Python. We'll walk through the process of loading, exploring, analyzing, and visualizing sample data."
   ]
  },
  {
   "cell_type": "markdown",
   "id": "d4f53b91",
   "metadata": {},
   "source": [
    "## 1. Import Required Libraries\n",
    "\n",
    "First, we need to import the necessary libraries for data manipulation and visualization:"
   ]
  },
  {
   "cell_type": "code",
   "execution_count": 1,
   "id": "549ee948",
   "metadata": {},
   "outputs": [
    {
     "ename": "ModuleNotFoundError",
     "evalue": "No module named 'numpy'",
     "output_type": "error",
     "traceback": [
      "\u001b[31m---------------------------------------------------------------------------\u001b[39m",
      "\u001b[31mModuleNotFoundError\u001b[39m                       Traceback (most recent call last)",
      "\u001b[36mCell\u001b[39m\u001b[36m \u001b[39m\u001b[32mIn[1]\u001b[39m\u001b[32m, line 2\u001b[39m\n\u001b[32m      1\u001b[39m \u001b[38;5;66;03m# Import necessary libraries\u001b[39;00m\n\u001b[32m----> \u001b[39m\u001b[32m2\u001b[39m \u001b[38;5;28;01mimport\u001b[39;00m\u001b[38;5;250m \u001b[39m\u001b[34;01mnumpy\u001b[39;00m\u001b[38;5;250m \u001b[39m\u001b[38;5;28;01mas\u001b[39;00m\u001b[38;5;250m \u001b[39m\u001b[34;01mnp\u001b[39;00m\n\u001b[32m      3\u001b[39m \u001b[38;5;28;01mimport\u001b[39;00m\u001b[38;5;250m \u001b[39m\u001b[34;01mpandas\u001b[39;00m\u001b[38;5;250m \u001b[39m\u001b[38;5;28;01mas\u001b[39;00m\u001b[38;5;250m \u001b[39m\u001b[34;01mpd\u001b[39;00m\n\u001b[32m      4\u001b[39m \u001b[38;5;28;01mimport\u001b[39;00m\u001b[38;5;250m \u001b[39m\u001b[34;01mmatplotlib\u001b[39;00m\u001b[34;01m.\u001b[39;00m\u001b[34;01mpyplot\u001b[39;00m\u001b[38;5;250m \u001b[39m\u001b[38;5;28;01mas\u001b[39;00m\u001b[38;5;250m \u001b[39m\u001b[34;01mplt\u001b[39;00m\n",
      "\u001b[31mModuleNotFoundError\u001b[39m: No module named 'numpy'"
     ]
    }
   ],
   "source": [
    "# Import necessary libraries\n",
    "import numpy as np\n",
    "import pandas as pd\n",
    "import matplotlib.pyplot as plt\n",
    "import seaborn as sns\n",
    "\n",
    "# Configure Matplotlib for better visualization in notebooks\n",
    "%matplotlib inline\n",
    "plt.style.use('seaborn-v0_8-whitegrid')\n",
    "plt.rcParams['figure.figsize'] = (12, 6)"
   ]
  },
  {
   "cell_type": "markdown",
   "id": "20698138",
   "metadata": {},
   "source": [
    "## 2. Generate Sample Data\n",
    "\n",
    "Let's create some sample data to work with. We'll generate a dataset that represents sales data across different regions over time:"
   ]
  },
  {
   "cell_type": "code",
   "execution_count": null,
   "id": "630c1466",
   "metadata": {},
   "outputs": [],
   "source": [
    "# Set seed for reproducibility\n",
    "np.random.seed(42)\n",
    "\n",
    "# Create date range for the past year\n",
    "date_range = pd.date_range(start='2024-08-01', end='2025-07-31', freq='D')\n",
    "\n",
    "# Define regions\n",
    "regions = ['North', 'South', 'East', 'West', 'Central']\n",
    "\n",
    "# Create empty dataframe\n",
    "data = []\n",
    "\n",
    "# Generate data for each region\n",
    "for region in regions:\n",
    "    # Base sales amount varies by region\n",
    "    base_sales = np.random.randint(100, 200)\n",
    "    \n",
    "    # Generate daily sales with seasonal patterns\n",
    "    for date in date_range:\n",
    "        # Add seasonality (higher in summer months, lower in winter)\n",
    "        month = date.month\n",
    "        seasonal_factor = 1.0 + 0.3 * np.sin((month - 1) * np.pi / 6)\n",
    "        \n",
    "        # Add weekday effect (weekends have higher sales)\n",
    "        weekday = date.weekday()\n",
    "        weekday_factor = 1.2 if weekday >= 5 else 1.0  # Weekend boost\n",
    "        \n",
    "        # Add some randomness\n",
    "        noise = np.random.normal(1, 0.2)\n",
    "        \n",
    "        # Calculate sales\n",
    "        sales = base_sales * seasonal_factor * weekday_factor * noise\n",
    "        \n",
    "        # Add to data\n",
    "        data.append({\n",
    "            'date': date,\n",
    "            'region': region,\n",
    "            'sales': round(sales, 2),\n",
    "            'transactions': int(sales / np.random.uniform(5, 15))\n",
    "        })\n",
    "\n",
    "# Create DataFrame\n",
    "df = pd.DataFrame(data)\n",
    "\n",
    "# Display the first few rows\n",
    "df.head()"
   ]
  },
  {
   "cell_type": "markdown",
   "id": "36066184",
   "metadata": {},
   "source": [
    "## 3. Data Exploration\n",
    "\n",
    "Let's explore our dataset to understand its structure and contents:"
   ]
  },
  {
   "cell_type": "code",
   "execution_count": null,
   "id": "4d43acc0",
   "metadata": {},
   "outputs": [],
   "source": [
    "# Check the shape of our dataset\n",
    "print(f\"Dataset shape: {df.shape}\")\n",
    "\n",
    "# Check data types\n",
    "print(\"\\nData Types:\")\n",
    "print(df.dtypes)\n",
    "\n",
    "# Check for missing values\n",
    "print(\"\\nMissing Values:\")\n",
    "print(df.isnull().sum())\n",
    "\n",
    "# Get statistical summary\n",
    "print(\"\\nStatistical Summary:\")\n",
    "print(df.describe())\n",
    "\n",
    "# Check unique regions\n",
    "print(\"\\nUnique Regions:\", df['region'].unique())"
   ]
  },
  {
   "cell_type": "markdown",
   "id": "d14b72ce",
   "metadata": {},
   "source": [
    "## 4. Data Visualization\n",
    "\n",
    "Now that we understand our data, let's create some visualizations to better analyze trends and patterns:"
   ]
  },
  {
   "cell_type": "code",
   "execution_count": null,
   "id": "f4cd6e56",
   "metadata": {},
   "outputs": [],
   "source": [
    "# Time Series Analysis - Sales over time by region\n",
    "plt.figure(figsize=(14, 8))\n",
    "\n",
    "# Group by date and region to get daily sales\n",
    "daily_sales = df.groupby(['date', 'region'])['sales'].sum().reset_index()\n",
    "\n",
    "# Plot time series for each region\n",
    "for region in regions:\n",
    "    region_data = daily_sales[daily_sales['region'] == region]\n",
    "    plt.plot(region_data['date'], region_data['sales'], label=region)\n",
    "\n",
    "plt.title('Daily Sales by Region', fontsize=16)\n",
    "plt.xlabel('Date', fontsize=12)\n",
    "plt.ylabel('Sales Amount', fontsize=12)\n",
    "plt.grid(True, alpha=0.3)\n",
    "plt.legend()\n",
    "plt.tight_layout()\n",
    "plt.show()"
   ]
  },
  {
   "cell_type": "code",
   "execution_count": null,
   "id": "ef3ab869",
   "metadata": {},
   "outputs": [],
   "source": [
    "# Monthly analysis\n",
    "df['month'] = df['date'].dt.month\n",
    "df['month_name'] = df['date'].dt.strftime('%b')\n",
    "\n",
    "# Get monthly sales by region\n",
    "monthly_sales = df.groupby(['month', 'month_name', 'region'])['sales'].sum().reset_index()\n",
    "\n",
    "# Create a pivot table for easier plotting\n",
    "pivot_data = monthly_sales.pivot(index=['month', 'month_name'], columns='region', values='sales')\n",
    "pivot_data = pivot_data.sort_index(level=0)\n",
    "\n",
    "# Plot monthly data\n",
    "plt.figure(figsize=(14, 8))\n",
    "pivot_data.plot(kind='bar', ax=plt.gca())\n",
    "plt.title('Monthly Sales by Region', fontsize=16)\n",
    "plt.xlabel('Month', fontsize=12)\n",
    "plt.ylabel('Total Sales', fontsize=12)\n",
    "plt.xticks(ticks=range(len(pivot_data)), labels=pivot_data.index.get_level_values('month_name'), rotation=45)\n",
    "plt.grid(True, alpha=0.3, axis='y')\n",
    "plt.legend(title='Region')\n",
    "plt.tight_layout()\n",
    "plt.show()"
   ]
  },
  {
   "cell_type": "code",
   "execution_count": null,
   "id": "865eb5cd",
   "metadata": {},
   "outputs": [],
   "source": [
    "# Region performance comparison\n",
    "region_summary = df.groupby('region').agg({\n",
    "    'sales': ['sum', 'mean', 'std'],\n",
    "    'transactions': ['sum', 'mean']\n",
    "}).reset_index()\n",
    "\n",
    "# Flatten the multi-index columns\n",
    "region_summary.columns = ['_'.join(col).strip('_') for col in region_summary.columns.values]\n",
    "\n",
    "# Plot total sales by region\n",
    "plt.figure(figsize=(12, 6))\n",
    "sns.barplot(x='region', y='sales_sum', data=region_summary, palette='viridis')\n",
    "plt.title('Total Sales by Region', fontsize=16)\n",
    "plt.xlabel('Region', fontsize=12)\n",
    "plt.ylabel('Total Sales', fontsize=12)\n",
    "plt.grid(True, alpha=0.3, axis='y')\n",
    "\n",
    "# Add value labels on top of bars\n",
    "for i, v in enumerate(region_summary['sales_sum']):\n",
    "    plt.text(i, v + 1000, f'{int(v):,}', ha='center', fontsize=10)\n",
    "\n",
    "plt.tight_layout()\n",
    "plt.show()"
   ]
  },
  {
   "cell_type": "markdown",
   "id": "fa90956f",
   "metadata": {},
   "source": [
    "## 5. Data Analysis\n",
    "\n",
    "Let's perform some more advanced analysis on our dataset:"
   ]
  },
  {
   "cell_type": "code",
   "execution_count": null,
   "id": "02ebb247",
   "metadata": {},
   "outputs": [],
   "source": [
    "# Add some derived features\n",
    "df['day_of_week'] = df['date'].dt.dayofweek\n",
    "df['is_weekend'] = df['day_of_week'].apply(lambda x: 1 if x >= 5 else 0)\n",
    "df['avg_transaction_value'] = df['sales'] / df['transactions']\n",
    "\n",
    "# Let's analyze correlation between different variables\n",
    "correlation_vars = df[['sales', 'transactions', 'day_of_week', 'is_weekend', 'month', 'avg_transaction_value']]\n",
    "correlation = correlation_vars.corr()\n",
    "\n",
    "# Plot correlation matrix\n",
    "plt.figure(figsize=(10, 8))\n",
    "sns.heatmap(correlation, annot=True, cmap='coolwarm', vmin=-1, vmax=1, fmt='.2f')\n",
    "plt.title('Correlation Matrix', fontsize=16)\n",
    "plt.tight_layout()\n",
    "plt.show()"
   ]
  },
  {
   "cell_type": "code",
   "execution_count": null,
   "id": "5bda1b66",
   "metadata": {},
   "outputs": [],
   "source": [
    "# Weekend vs Weekday Analysis\n",
    "weekday_data = df.groupby(['is_weekend', 'region']).agg({\n",
    "    'sales': ['mean', 'sum'],\n",
    "    'transactions': ['mean', 'sum']\n",
    "}).reset_index()\n",
    "\n",
    "# Flatten multi-level columns\n",
    "weekday_data.columns = ['_'.join(col).strip('_') for col in weekday_data.columns.values]\n",
    "\n",
    "# Convert is_weekend to categorical for better labels\n",
    "weekday_data['day_type'] = weekday_data['is_weekend'].apply(lambda x: 'Weekend' if x == 1 else 'Weekday')\n",
    "\n",
    "# Plot average sales by day type and region\n",
    "plt.figure(figsize=(14, 7))\n",
    "sns.barplot(x='region', y='sales_mean', hue='day_type', data=weekday_data, palette='Set2')\n",
    "plt.title('Average Daily Sales: Weekday vs Weekend', fontsize=16)\n",
    "plt.xlabel('Region', fontsize=12)\n",
    "plt.ylabel('Average Daily Sales', fontsize=12)\n",
    "plt.grid(True, alpha=0.3, axis='y')\n",
    "plt.legend(title='Day Type')\n",
    "plt.tight_layout()\n",
    "plt.show()"
   ]
  },
  {
   "cell_type": "markdown",
   "id": "0e0290a5",
   "metadata": {},
   "source": [
    "## 6. Conclusion\n",
    "\n",
    "In this notebook, we've demonstrated how to:\n",
    "\n",
    "1. Generate and manipulate sample data using pandas\n",
    "2. Explore data characteristics and structure\n",
    "3. Create various visualizations using matplotlib and seaborn\n",
    "4. Perform basic data analysis to extract insights\n",
    "\n",
    "This notebook can serve as a starting point for more complex data analysis tasks. You can extend it by:\n",
    "\n",
    "- Adding more advanced statistical analysis\n",
    "- Building predictive models\n",
    "- Creating interactive visualizations\n",
    "- Working with real-world datasets from various sources"
   ]
  }
 ],
 "metadata": {
  "kernelspec": {
   "display_name": ".venv (3.13.2)",
   "language": "python",
   "name": "python3"
  },
  "language_info": {
   "codemirror_mode": {
    "name": "ipython",
    "version": 3
   },
   "file_extension": ".py",
   "mimetype": "text/x-python",
   "name": "python",
   "nbconvert_exporter": "python",
   "pygments_lexer": "ipython3",
   "version": "3.13.2"
  }
 },
 "nbformat": 4,
 "nbformat_minor": 5
}
